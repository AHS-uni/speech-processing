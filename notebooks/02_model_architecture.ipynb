{
  "nbformat": 4,
  "nbformat_minor": 0,
  "metadata": {
    "colab": {
      "provenance": []
    },
    "kernelspec": {
      "name": "python3",
      "display_name": "Python 3"
    },
    "language_info": {
      "name": "python"
    }
  },
  "cells": [
    {
      "cell_type": "markdown",
      "source": [
        "## 0. Load Project"
      ],
      "metadata": {
        "id": "MF-s_FP0VTbt"
      }
    },
    {
      "cell_type": "markdown",
      "source": [
        "### 0.1. Clone Project Repository (GitHub)"
      ],
      "metadata": {
        "id": "2ArJfO7YVccp"
      }
    },
    {
      "cell_type": "code",
      "source": [
        "!git clone https://github.com/AHS-uni/speech-processing.git"
      ],
      "metadata": {
        "colab": {
          "base_uri": "https://localhost:8080/"
        },
        "id": "vJghEXDdUbp_",
        "outputId": "eb4f7a3e-6cb1-412b-dbca-4b8549da9c14"
      },
      "execution_count": 4,
      "outputs": [
        {
          "output_type": "stream",
          "name": "stdout",
          "text": [
            "Cloning into 'speech-processing'...\n",
            "remote: Enumerating objects: 88, done.\u001b[K\n",
            "remote: Counting objects: 100% (88/88), done.\u001b[K\n",
            "remote: Compressing objects: 100% (73/73), done.\u001b[K\n",
            "remote: Total 88 (delta 16), reused 84 (delta 12), pack-reused 0 (from 0)\u001b[K\n",
            "Receiving objects: 100% (88/88), 10.18 MiB | 27.81 MiB/s, done.\n",
            "Resolving deltas: 100% (16/16), done.\n"
          ]
        }
      ]
    },
    {
      "cell_type": "markdown",
      "source": [
        "### 0.2. Clone Processed Dataset Files (HuggingFace)"
      ],
      "metadata": {
        "id": "JXbzJmqeUH1X"
      }
    },
    {
      "cell_type": "code",
      "source": [
        "!git lfs install\n",
        "!git clone https://huggingface.co/datasets/AHS-uni/ljspeech-processed"
      ],
      "metadata": {
        "colab": {
          "base_uri": "https://localhost:8080/"
        },
        "id": "01FV2whjT4OR",
        "outputId": "13047834-b9ad-41b8-b806-5e193fcf5e0c"
      },
      "execution_count": 12,
      "outputs": [
        {
          "output_type": "stream",
          "name": "stdout",
          "text": [
            "Git LFS initialized.\n",
            "Cloning into 'ljspeech-processed'...\n",
            "remote: Enumerating objects: 8, done.\u001b[K\n",
            "remote: Counting objects: 100% (5/5), done.\u001b[K\n",
            "remote: Compressing objects: 100% (5/5), done.\u001b[K\n",
            "remote: Total 8 (delta 0), reused 0 (delta 0), pack-reused 3 (from 1)\u001b[K\n",
            "Unpacking objects: 100% (8/8), 1.84 KiB | 942.00 KiB/s, done.\n",
            "Filtering content: 100% (3/3), 2.22 GiB | 31.41 MiB/s, done.\n"
          ]
        }
      ]
    },
    {
      "cell_type": "markdown",
      "source": [
        "### 0.3. Move Processed Files to Correct Directory"
      ],
      "metadata": {
        "id": "7NN2jFxrU2Jj"
      }
    },
    {
      "cell_type": "code",
      "source": [
        "!mv /content/ljspeech-processed/*.pt /content/speech-processing/data/preprocessed/"
      ],
      "metadata": {
        "id": "ZtcefVm3UXGY"
      },
      "execution_count": 13,
      "outputs": []
    },
    {
      "cell_type": "code",
      "source": [
        "%cd /content/speech-processing"
      ],
      "metadata": {
        "colab": {
          "base_uri": "https://localhost:8080/"
        },
        "id": "jQc0ZrEUVaDy",
        "outputId": "0a67f196-accf-4635-bfbe-b105e08a11a7"
      },
      "execution_count": 14,
      "outputs": [
        {
          "output_type": "stream",
          "name": "stdout",
          "text": [
            "/content/speech-processing\n"
          ]
        }
      ]
    },
    {
      "cell_type": "markdown",
      "source": [
        "## 1. Environment Setup"
      ],
      "metadata": {
        "id": "v01Bz2w5hRZj"
      }
    },
    {
      "cell_type": "markdown",
      "source": [
        "### 1.1. Load Config"
      ],
      "metadata": {
        "id": "DeUWzz50hebW"
      }
    },
    {
      "cell_type": "code",
      "source": [
        "from src.config import load_config\n",
        "import pprint\n",
        "\n",
        "cfg = load_config(\"config.yaml\")\n",
        "pprint.pprint(cfg)"
      ],
      "metadata": {
        "colab": {
          "base_uri": "https://localhost:8080/"
        },
        "id": "J_edhX-hVcNg",
        "outputId": "922786cd-a97c-424d-9fd8-8b2773b8b3c0"
      },
      "execution_count": 17,
      "outputs": [
        {
          "output_type": "stream",
          "name": "stdout",
          "text": [
            "{'batch_size': 32,\n",
            " 'character_coverage': 1.0,\n",
            " 'dataset_dir': 'data/LJSpeech',\n",
            " 'hop_length': 256,\n",
            " 'n_fft': 1024,\n",
            " 'n_mels': 80,\n",
            " 'preprocessed_dir': 'data/preprocessed',\n",
            " 'splits_dir': 'data/splits',\n",
            " 'stats_dir': 'data/stats',\n",
            " 'tokenizer_dir': 'data/preprocessed/tokenizer',\n",
            " 'train_ratio': 0.8,\n",
            " 'val_ratio': 0.1,\n",
            " 'vocab_size': 1000}\n"
          ]
        }
      ]
    },
    {
      "cell_type": "code",
      "source": [
        "n_mels = cfg['n_mels']\n",
        "vocab_size = cfg['vocab_size']\n",
        "batch_size = cfg['batch_size']"
      ],
      "metadata": {
        "id": "ePjaKqLthkFt"
      },
      "execution_count": 18,
      "outputs": []
    },
    {
      "cell_type": "markdown",
      "source": [
        "## 2. Dataset and DataLoader"
      ],
      "metadata": {
        "id": "ZeYq1K2Ph5ia"
      }
    },
    {
      "cell_type": "code",
      "source": [
        "from src.dataset import LJSpeechDataset, collate_fn\n",
        "from torch.utils.data import DataLoader"
      ],
      "metadata": {
        "id": "NgeniB3Mhp_x"
      },
      "execution_count": 19,
      "outputs": []
    },
    {
      "cell_type": "markdown",
      "source": [
        "### 2.1. Instantiate Datasets"
      ],
      "metadata": {
        "id": "aIv4lpxsh_4S"
      }
    },
    {
      "cell_type": "code",
      "source": [
        "train_ds = LJSpeechDataset(split='train', cfg=cfg)\n",
        "val_ds   = LJSpeechDataset(split='val',   cfg=cfg)\n",
        "test_ds  = LJSpeechDataset(split='test',  cfg=cfg)\n",
        "\n",
        "print(f\"Train samples: {len(train_ds)}\")\n",
        "print(f\"Val   samples: {len(val_ds)}\")\n",
        "print(f\"Test  samples: {len(test_ds)}\")"
      ],
      "metadata": {
        "colab": {
          "base_uri": "https://localhost:8080/"
        },
        "id": "E90NyW77h_Fo",
        "outputId": "3cc9b3a9-6c50-4d8e-8a65-5e480845b876"
      },
      "execution_count": 20,
      "outputs": [
        {
          "output_type": "stream",
          "name": "stdout",
          "text": [
            "Train samples: 10480\n",
            "Val   samples: 1310\n",
            "Test  samples: 1310\n"
          ]
        }
      ]
    },
    {
      "cell_type": "markdown",
      "source": [
        "### 2.2. Create DataLoaders"
      ],
      "metadata": {
        "id": "BLpNnhssiGVC"
      }
    },
    {
      "cell_type": "code",
      "source": [
        "train_loader = DataLoader(\n",
        "    train_ds,\n",
        "    batch_size=batch_size,\n",
        "    shuffle=True,\n",
        "    collate_fn=collate_fn,\n",
        ")\n",
        "val_loader = DataLoader(\n",
        "    val_ds,\n",
        "    batch_size=batch_size,\n",
        "    shuffle=False,\n",
        "    collate_fn=collate_fn,\n",
        ")"
      ],
      "metadata": {
        "id": "Mn8yqkyviFLC"
      },
      "execution_count": 21,
      "outputs": []
    },
    {
      "cell_type": "code",
      "source": [
        "# Inspect one batch\n",
        "batch = next(iter(train_loader))\n",
        "print({\n",
        "    'specs': batch['specs'].shape,\n",
        "    'spec_lengths': batch['spec_lengths'][:5],\n",
        "    'tokens': batch['tokens'].shape,\n",
        "    'token_lengths': batch['token_lengths'][:5],\n",
        "})"
      ],
      "metadata": {
        "colab": {
          "base_uri": "https://localhost:8080/"
        },
        "id": "c5wVO0IziMof",
        "outputId": "5e70b11e-f0dc-45c9-f336-0bf3bfd6381c"
      },
      "execution_count": 22,
      "outputs": [
        {
          "output_type": "stream",
          "name": "stdout",
          "text": [
            "{'specs': torch.Size([32, 1, 80, 813]), 'spec_lengths': tensor([462, 526, 712, 788, 600]), 'tokens': torch.Size([32, 46]), 'token_lengths': tensor([23, 35, 38, 37, 37])}\n"
          ]
        }
      ]
    },
    {
      "cell_type": "markdown",
      "source": [
        "## 3. Model Definition"
      ],
      "metadata": {
        "id": "OTV1JPdgiUgj"
      }
    },
    {
      "cell_type": "code",
      "source": [
        "import torch\n",
        "from src.model import HybridASR"
      ],
      "metadata": {
        "id": "n0GOFS2tiQq7"
      },
      "execution_count": 23,
      "outputs": []
    },
    {
      "cell_type": "code",
      "source": [
        "model = HybridASR(cfg)\n",
        "# Count parameters\n",
        "total_params = sum(p.numel() for p in model.parameters())\n",
        "print(f\"Total parameters in HybridASR: {total_params:,}\")\n",
        "\n",
        "# Move model to GPU if available\n",
        "device = torch.device('cuda' if torch.cuda.is_available() else 'cpu')\n",
        "model.to(device)"
      ],
      "metadata": {
        "colab": {
          "base_uri": "https://localhost:8080/"
        },
        "id": "kJ79x9Lwiapq",
        "outputId": "b5dba030-c738-4dfb-f054-6004d4287f7c"
      },
      "execution_count": 24,
      "outputs": [
        {
          "output_type": "stream",
          "name": "stdout",
          "text": [
            "Total parameters in HybridASR: 4,785,360\n"
          ]
        },
        {
          "output_type": "stream",
          "name": "stderr",
          "text": [
            "/usr/local/lib/python3.11/dist-packages/torch/nn/modules/transformer.py:385: UserWarning: enable_nested_tensor is True, but self.use_nested_tensor is False because encoder_layer.self_attn.batch_first was not True(use batch_first for better inference performance)\n",
            "  warnings.warn(\n"
          ]
        },
        {
          "output_type": "execute_result",
          "data": {
            "text/plain": [
              "HybridASR(\n",
              "  (subsampler): Sequential(\n",
              "    (0): Conv2d(1, 256, kernel_size=(80, 3), stride=(1, 2), padding=(0, 1))\n",
              "    (1): ReLU()\n",
              "  )\n",
              "  (encoder): TransformerEncoder(\n",
              "    (layers): ModuleList(\n",
              "      (0-2): 3 x TransformerEncoderLayer(\n",
              "        (self_attn): MultiheadAttention(\n",
              "          (out_proj): NonDynamicallyQuantizableLinear(in_features=256, out_features=256, bias=True)\n",
              "        )\n",
              "        (linear1): Linear(in_features=256, out_features=512, bias=True)\n",
              "        (dropout): Dropout(p=0.1, inplace=False)\n",
              "        (linear2): Linear(in_features=512, out_features=256, bias=True)\n",
              "        (norm1): LayerNorm((256,), eps=1e-05, elementwise_affine=True)\n",
              "        (norm2): LayerNorm((256,), eps=1e-05, elementwise_affine=True)\n",
              "        (dropout1): Dropout(p=0.1, inplace=False)\n",
              "        (dropout2): Dropout(p=0.1, inplace=False)\n",
              "      )\n",
              "    )\n",
              "  )\n",
              "  (ctc_head): Linear(in_features=256, out_features=1000, bias=True)\n",
              "  (embedding): Embedding(1000, 256)\n",
              "  (decoder): TransformerDecoder(\n",
              "    (layers): ModuleList(\n",
              "      (0-2): 3 x TransformerDecoderLayer(\n",
              "        (self_attn): MultiheadAttention(\n",
              "          (out_proj): NonDynamicallyQuantizableLinear(in_features=256, out_features=256, bias=True)\n",
              "        )\n",
              "        (multihead_attn): MultiheadAttention(\n",
              "          (out_proj): NonDynamicallyQuantizableLinear(in_features=256, out_features=256, bias=True)\n",
              "        )\n",
              "        (linear1): Linear(in_features=256, out_features=512, bias=True)\n",
              "        (dropout): Dropout(p=0.1, inplace=False)\n",
              "        (linear2): Linear(in_features=512, out_features=256, bias=True)\n",
              "        (norm1): LayerNorm((256,), eps=1e-05, elementwise_affine=True)\n",
              "        (norm2): LayerNorm((256,), eps=1e-05, elementwise_affine=True)\n",
              "        (norm3): LayerNorm((256,), eps=1e-05, elementwise_affine=True)\n",
              "        (dropout1): Dropout(p=0.1, inplace=False)\n",
              "        (dropout2): Dropout(p=0.1, inplace=False)\n",
              "        (dropout3): Dropout(p=0.1, inplace=False)\n",
              "      )\n",
              "    )\n",
              "  )\n",
              "  (decoder_fc): Linear(in_features=256, out_features=1000, bias=True)\n",
              ")"
            ]
          },
          "metadata": {},
          "execution_count": 24
        }
      ]
    },
    {
      "cell_type": "markdown",
      "source": [
        "## 4. Sanity Checks"
      ],
      "metadata": {
        "id": "JvN7XGp1ilZ2"
      }
    },
    {
      "cell_type": "code",
      "source": [
        "# Dummy inputs\n",
        "T_dummy = 100\n",
        "L_dummy = 20\n",
        "\n",
        "dummy_specs  = torch.randn(batch_size, 1, n_mels, T_dummy, device=device)\n",
        "# tokens in [0, vocab_size)\n",
        "dummy_tokens = torch.randint(low=0, high=vocab_size, size=(batch_size, L_dummy), device=device)"
      ],
      "metadata": {
        "id": "W8TD6GXzigUa"
      },
      "execution_count": 30,
      "outputs": []
    },
    {
      "cell_type": "markdown",
      "source": [
        "### 4.1 Forward Pass: CTC-only"
      ],
      "metadata": {
        "id": "mxDA0J08jPRT"
      }
    },
    {
      "cell_type": "code",
      "source": [
        "ctc_logits = model(dummy_specs)\n",
        "print('CTC-only output shape:', ctc_logits.shape)"
      ],
      "metadata": {
        "colab": {
          "base_uri": "https://localhost:8080/"
        },
        "id": "_7RqeGoijWjS",
        "outputId": "9cd16914-a68e-4db9-ad71-de235a87a802"
      },
      "execution_count": 28,
      "outputs": [
        {
          "output_type": "stream",
          "name": "stdout",
          "text": [
            "CTC-only output shape: torch.Size([50, 32, 1000])\n"
          ]
        }
      ]
    },
    {
      "cell_type": "markdown",
      "source": [
        "### 4.3. Forward Pass: CTC + decoder"
      ],
      "metadata": {
        "id": "e_ksan8LjX9K"
      }
    },
    {
      "cell_type": "code",
      "source": [
        "ctc_out, dec_logits = model(dummy_specs, tokens=dummy_tokens)\n",
        "print('CTC output shape:', ctc_out.shape)\n",
        "print('Decoder output shape:', dec_logits.shape)"
      ],
      "metadata": {
        "colab": {
          "base_uri": "https://localhost:8080/"
        },
        "id": "M0wQpCKEjf_j",
        "outputId": "fe7c2680-508d-41b6-ea28-b6cae821090d"
      },
      "execution_count": 29,
      "outputs": [
        {
          "output_type": "stream",
          "name": "stdout",
          "text": [
            "CTC output shape: torch.Size([50, 32, 1000])\n",
            "Decoder output shape: torch.Size([32, 20, 1000])\n"
          ]
        }
      ]
    },
    {
      "cell_type": "markdown",
      "source": [
        "## 5. Visualizations"
      ],
      "metadata": {
        "id": "RJJOBgZ0jmty"
      }
    },
    {
      "cell_type": "code",
      "source": [
        "import matplotlib.pyplot as plt"
      ],
      "metadata": {
        "id": "EMD-HQq8jtoi"
      },
      "execution_count": 31,
      "outputs": []
    },
    {
      "cell_type": "markdown",
      "source": [
        "### 5.1. Distribution of Spectrogram Lengths in a Batch"
      ],
      "metadata": {
        "id": "o9ycGb3Kjr8e"
      }
    },
    {
      "cell_type": "code",
      "source": [
        "spec_lens = batch['spec_lengths'].cpu().numpy()\n",
        "plt.hist(spec_lens, bins=10)\n",
        "plt.title('Batch Spectrogram Lengths')\n",
        "plt.xlabel('Frames'); plt.ylabel('Count')\n",
        "plt.show()"
      ],
      "metadata": {
        "colab": {
          "base_uri": "https://localhost:8080/",
          "height": 472
        },
        "id": "q9eu0B8Lip7-",
        "outputId": "3394bfbe-df64-4862-e985-5d88a1f594e6"
      },
      "execution_count": 32,
      "outputs": [
        {
          "output_type": "display_data",
          "data": {
            "text/plain": [
              "<Figure size 640x480 with 1 Axes>"
            ],
            "image/png": "[encoded data removed]"
          },
          "metadata": {}
        }
      ]
    },
    {
      "cell_type": "markdown",
      "source": [
        "### 5.2. Distribution of Token Lengths in a Batch"
      ],
      "metadata": {
        "id": "qeP1MTvlj5Yo"
      }
    },
    {
      "cell_type": "code",
      "source": [
        "token_lens = batch['token_lengths'].cpu().numpy()\n",
        "plt.hist(token_lens, bins=10)\n",
        "plt.title('Batch Token Lengths')\n",
        "plt.xlabel('Tokens'); plt.ylabel('Count')\n",
        "plt.show()"
      ],
      "metadata": {
        "colab": {
          "base_uri": "https://localhost:8080/",
          "height": 472
        },
        "id": "T6gszzONito4",
        "outputId": "aacf023d-033c-46e8-ec47-544e70e93659"
      },
      "execution_count": 33,
      "outputs": [
        {
          "output_type": "display_data",
          "data": {
            "text/plain": [
              "<Figure size 640x480 with 1 Axes>"
            ],
            "image/png": "[encoded data removed]"
          },
          "metadata": {}
        }
      ]
    },
    {
      "cell_type": "code",
      "source": [],
      "metadata": {
        "id": "sWxXyelSlKnS"
      },
      "execution_count": null,
      "outputs": []
    }
  ]
}